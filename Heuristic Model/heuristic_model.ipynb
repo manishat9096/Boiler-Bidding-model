{
 "cells": [
  {
   "cell_type": "code",
   "execution_count": 1,
   "metadata": {},
   "outputs": [],
   "source": [
    "import numpy as np \n",
    "import pandas as pd\n",
    "import matplotlib.pyplot as plt \n",
    "import time\n",
    "from datetime import datetime, timedelta\n",
    "import os\n",
    "import itertools\n",
    "\n",
    "from fetch_api import entsoe_api, energinet_api\n",
    "from functions import *\n",
    "%load_ext autoreload\n",
    "%reload_ext autoreload\n",
    "%autoreload 2\n",
    "%matplotlib inline"
   ]
  },
  {
   "cell_type": "markdown",
   "metadata": {},
   "source": [
    "Add the SoC/MWh model of the boiler or Load the complete csv schedule containing MWh "
   ]
  },
  {
   "cell_type": "markdown",
   "metadata": {},
   "source": [
    "Add aFRR activation prices, Spot prices from Energinet API"
   ]
  },
  {
   "cell_type": "code",
   "execution_count": 47,
   "metadata": {},
   "outputs": [],
   "source": [
    "# Define the duration of the data to be fetched. The bids are compared against the aFRR price during the period assuming complete visibility\n",
    "\n",
    "start_date = '2024-11-26'\n",
    "end_date = '2024-12-03'"
   ]
  },
  {
   "cell_type": "code",
   "execution_count": 26,
   "metadata": {},
   "outputs": [],
   "source": [
    "\"\"\"\n",
    "Fetch aFRR prices using energinet api\n",
    "\"\"\"\n",
    "\n",
    "aFRRprice = energinet_api('AfrrEnergyActivated', start_date, end_date)\n",
    "aFRRprice = aFRRprice[aFRRprice['PriceArea'] == 'DK1']\n",
    "aFRRprice['ActivationTime'] = pd.to_datetime(aFRRprice['ActivationTime'])\n",
    "aFRRprice = aFRRprice.sort_values('ActivationTime', ascending=True).reset_index(drop=True)\n",
    "aFRRprice['Interval'] = (aFRRprice['ActivationTime'].dt.hour * 4 + aFRRprice['ActivationTime'].dt.minute // 15 + 1)\n",
    "aFRRprice['MTU_block'] = aFRRprice['ActivationTime'].dt.floor('15T') # sort all rows to every 15 min bucket\n",
    "aFRRpriceMTU = aFRRprice.groupby('MTU_block', as_index=False).apply(lambda x: x.iloc[[0]]).reset_index(drop=True) # ensures if aFRR is missing in the first row of the MTU, returns nan"
   ]
  },
  {
   "cell_type": "code",
   "execution_count": 48,
   "metadata": {},
   "outputs": [],
   "source": [
    "\"\"\"\n",
    "Fetch Spot Prices using energinet api\n",
    "The lowest permissible bid price = spot price\n",
    "\"\"\"\n",
    "\n",
    "spotpricesthisweek = energinet_api('Elspotprices', start_date, end_date)\n",
    "spotpricesthisweek = spotpricesthisweek.loc[spotpricesthisweek['PriceArea'] == 'DK1']\n",
    "spotpricesthisweek['HourUTC'] = pd.to_datetime(spotpricesthisweek['HourUTC'])\n",
    "spotpricesthisweek.index = range(0, len(spotpricesthisweek))\n",
    "spotpricesthisweek.set_index('HourUTC', inplace=True)\n",
    "spotpricesthisweek = spotpricesthisweek.resample('15T').ffill()"
   ]
  },
  {
   "cell_type": "code",
   "execution_count": null,
   "metadata": {},
   "outputs": [],
   "source": [
    "\"\"\"\n",
    "The reference LinHeat schedule for the week \n",
    "\"\"\"\n",
    "folder_path = r\"D:\\ms\\January 2024\\Thesis\\Boiler-Bidding-model\\Datasets\\LinHeatSchedule_1week_estimatedMWh.csv\"\n",
    "commitment_schedule = pd.read_csv(folder_path)\n",
    "commitment_schedule['UTC'] = pd.to_datetime(commitment_schedule['UTC'])\n",
    "\n",
    "# shift the commitment schedule to match the prices fetched dates\n",
    "time_shift = pd.Timestamp(start_date, tz= 'UTC') - commitment_schedule['UTC'].min()\n",
    "commitment_schedule['UTC'] = commitment_schedule['UTC'] + time_shift \n",
    "commitment_schedule.set_index('UTC', inplace= True)\n",
    "# merge the spot prices of each hour to the commitment_schedule\n",
    "commitment_schedule.index = commitment_schedule.index.tz_localize(None)\n",
    "commitment_schedule = commitment_schedule.join(spotpricesthisweek, how=\"left\")\n",
    "commitment_schedule.reset_index(inplace=True)\n",
    "commitment_schedule.rename(columns={'index': 'UTC'}, inplace=True)"
   ]
  },
  {
   "cell_type": "markdown",
   "metadata": {},
   "source": [
    "Set up datasets for the model"
   ]
  },
  {
   "cell_type": "code",
   "execution_count": 53,
   "metadata": {},
   "outputs": [],
   "source": [
    "\"\"\"\n",
    "All required data is assigned to arrays\n",
    "\"\"\"\n",
    "commitment = np.array(commitment_schedule['Total heat production plan [MW]']) # this column is changed to L11 EK Plan (MW)\n",
    "spotpricesoftheday = np.array(commitment_schedule['SpotPriceEUR'])\n",
    "historical_up_clearing_price = np.array(aFRRpriceMTU['aFRR_UpActivatedPriceEUR'])\n",
    "historical_down_clearing_price = np.array(aFRRpriceMTU['aFRR_DownActivatedPriceEUR'])\n",
    "scheduled_soc = np.array(commitment_schedule['estimate_soc'])\n",
    "storage = np.array(commitment_schedule['Heat Storage (MW)'])\n",
    "production_sch = np.array(commitment_schedule['Total heat production plan [MW]'])\n",
    "estimated_soc = scheduled_soc.copy()\n"
   ]
  },
  {
   "cell_type": "code",
   "execution_count": 56,
   "metadata": {},
   "outputs": [],
   "source": [
    "\"\"\"\n",
    "Set up the dataframe to save the output results\n",
    "\"\"\"\n",
    "simulation_time = len(commitment_schedule) - 2\n",
    "results2 = pd.DataFrame(index=range(simulation_time + 2), columns=['final_soc', 'win_outcome', 'planned_up_bid_price', 'planned_down_bid_price',\n",
    "    'planned_up_qty', 'planned_down_qty', 'actual_up_activation', 'actual_down_activation'])\n",
    "results2[:] = np.nan \n",
    "results2['UTC'] = np.array(commitment_schedule['UTC'])\n",
    "results2.set_index('UTC', inplace= True)\n",
    "results2.reset_index(inplace=True)\n",
    "for t in range(2):\n",
    "    results2.loc[t ,'final_soc'] = scheduled_soc[0]\n",
    "results2 =  results2.merge(commitment_schedule[['UTC', 'Total heat production plan [MW]', 'Heat Storage (MW)', 'SpotPriceEUR', 'estimate_soc']], on='UTC', how='left')\n",
    "results2 =  results2.merge(aFRRpriceMTU[['ActivationTime','aFRR_UpActivatedPriceEUR', 'aFRR_DownActivatedPriceEUR']], left_on='UTC', right_on='ActivationTime', how='left').drop(columns=['ActivationTime'])\n",
    "results2.index = range(-1, -1 + len(results2))  # D 00:00 should be index 0 and anything before that MTU is -ve index"
   ]
  },
  {
   "cell_type": "code",
   "execution_count": null,
   "metadata": {},
   "outputs": [],
   "source": [
    "# max ch and disch rate\n",
    "Pch =  9.645000000000001 \n",
    "Pdis =  -4.429565217391305\n",
    "Emax = 60\n",
    "# define the model parameters\n",
    "simulation_time = len(commitment_schedule) - 2\n",
    "lead_time = 2 # bid submission leads the outcome by 2 MTUs\n",
    "start_time = datetime.strptime(start_date, \"%Y-%m-%d\")\n",
    "for t in range(simulation_time + 2):\n",
    "    current_time = start_time + timedelta(minutes=15 * t)\n",
    "    print(f'Simulation at {current_time}')\n",
    "    finalize_index = t - lead_time # at simulation time t, finalise the bids after 2 MTUs in the future\n",
    "    decision_index = t + lead_time # at simulation time t, we know the outcome of (t-2) MTUs\n",
    "\n",
    "    # if t == 0 or t == 1:\n",
    "    #     # we dont need to make any soc finalization, no old outcomes\n",
    "\n",
    "    if finalize_index >= 0: # we find outcome of the past MTU; at t = 2 (00:30), outcome of t = 0 (00:00) is known, finalize our state of the system\n",
    "        print(f'Finalizing outcome of MTU:{finalize_index} at {current_time - timedelta(minutes=15 * 2)}')\n",
    "        up_bid_price = results2.loc[finalize_index, 'planned_up_bid_price'] # retrieve the prices we bid for this MTU 25 mins ago\n",
    "        down_bid_price = results2.loc[finalize_index, 'planned_down_bid_price']\n",
    "\n",
    "        if up_bid_price <= historical_up_clearing_price[finalize_index] and down_bid_price >= historical_down_clearing_price[finalize_index]:\n",
    "            actual_win = 'BOTH'\n",
    "        elif up_bid_price <= historical_up_clearing_price[finalize_index]:\n",
    "            actual_win = 'UP'\n",
    "        elif down_bid_price >= historical_down_clearing_price[finalize_index]:\n",
    "            actual_win = 'DOWN'\n",
    "        else:\n",
    "            actual_win = 'NIL'\n",
    "        \n",
    "        results2.loc[finalize_index, 'win_outcome'] = actual_win # update if we have won the MTU\n",
    "\n",
    "        # once we know the win status, determine the activation rate during the MTU placed 30 mins ago\n",
    "        if actual_win in ['UP', 'DOWN', 'BOTH']:\n",
    "            if actual_win == 'BOTH':\n",
    "                alpha_up_val = activation_estimate()\n",
    "                alpha_down_val = activation_estimate()\n",
    "                results2.loc[finalize_index, 'actual_up_activation'] = alpha_up_val\n",
    "                results2.loc[finalize_index, 'actual_down_activation'] = alpha_down_val\n",
    "            else:\n",
    "                alpha = activation_estimate()\n",
    "                if actual_win == 'UP':\n",
    "                    alpha_up_val = alpha\n",
    "                    results2.loc[finalize_index, 'actual_up_activation'] = alpha\n",
    "                else:\n",
    "                    alpha_down_val = alpha\n",
    "                    results2.loc[finalize_index, 'actual_down_activation'] = alpha\n",
    "        # with the activation rate, determine the actual soc\n",
    "        soc = results2.loc[finalize_index, 'final_soc']\n",
    "        if actual_win == 'UP':\n",
    "            current_soc = update_soc(soc, Emax, -upbidsize, alpha_up_val)\n",
    "        elif actual_win == 'DOWN':\n",
    "            current_soc = update_soc(soc, Emax, downbidsize, alpha_down_val)\n",
    "        elif actual_win == 'BOTH':\n",
    "            net_change = (downbidsize * alpha_down_val) - (upbidsize * alpha_up_val)\n",
    "            current_soc = update_soc(soc, Emax, net_change, 1.0)\n",
    "        else:\n",
    "            current_soc = soc_on_schedule(Pch, Pdis, soc, storage[finalize_index], production_sch[finalize_index], Emax, Pmax, wch = 1.2, wdis = 1)\n",
    "\n",
    "        results2.loc[finalize_index + 1, 'final_soc'] = current_soc # the soc at the end of the finalized MTU goes into the entry of next MTU\n",
    "        print(f'Bid Status for MTU {finalize_index}: {actual_win} and SoC changes {np.round(soc,2)}:MTU[{finalize_index}] --> {np.round(current_soc,2)}:MTU[{finalize_index+1}]')\n",
    "\n",
    "\n",
    "    if decision_index < simulation_time: # we find the the bids for MTU in the future; t = 0 (00:00), bids for t = 2 (00:30)  is decided\n",
    "        # for t = 0 and t = 1, we don't have any history, use estimated soc\n",
    "        print(f'Calculating bids for MTU:{decision_index} at {current_time + timedelta(minutes=15 * 2)}')\n",
    "\n",
    "        if t <= 1:\n",
    "            soc_for_bidding = results2.loc[finalize_index+1, 'estimate_soc']\n",
    "            results2.loc[finalize_index + 1, 'final_soc'] = soc_for_bidding\n",
    "        else:\n",
    "            soc_for_bidding = results2.loc[finalize_index+1, 'final_soc']\n",
    "\n",
    "        up_bid_probability = bid_probability(soc_for_bidding, 'UP')\n",
    "        down_bid_probability = bid_probability(soc_for_bidding, 'DOWN')\n",
    "\n",
    "        upbidprice, downbidprice = bid_price(up_bid_probability, down_bid_probability, results2['SpotPriceEUR'], decision_index)\n",
    "        results2.loc[decision_index, 'planned_up_bid_price'] = upbidprice\n",
    "        results2.loc[decision_index, 'planned_down_bid_price'] = downbidprice\n",
    "\n",
    "        upbidsize = bid_size(soc_for_bidding, Emax, 'UP')\n",
    "        downbidsize = bid_size(soc_for_bidding, Emax, 'DOWN')\n",
    "        results2.loc[decision_index, 'planned_up_qty'] = upbidsize # store the decisions for the MTU 2 steps in the future\n",
    "        results2.loc[decision_index, 'planned_down_qty'] = downbidsize\n",
    "    \n",
    "        print(f'Bid placed in Up: {np.round(upbidsize,2)}Mwh for {np.round(upbidprice,2)}EUR and Down: {np.round(downbidsize,2)}Mwh for {np.round(downbidprice,2)}EUR for MTU {np.round(decision_index,2)}')\n",
    "    print('*********************************')"
   ]
  }
 ],
 "metadata": {
  "kernelspec": {
   "display_name": "base",
   "language": "python",
   "name": "python3"
  },
  "language_info": {
   "codemirror_mode": {
    "name": "ipython",
    "version": 3
   },
   "file_extension": ".py",
   "mimetype": "text/x-python",
   "name": "python",
   "nbconvert_exporter": "python",
   "pygments_lexer": "ipython3",
   "version": "3.11.4"
  }
 },
 "nbformat": 4,
 "nbformat_minor": 2
}
