{
 "cells": [
  {
   "cell_type": "code",
   "execution_count": 25,
   "metadata": {},
   "outputs": [
    {
     "name": "stdout",
     "output_type": "stream",
     "text": [
      "The autoreload extension is already loaded. To reload it, use:\n",
      "  %reload_ext autoreload\n"
     ]
    }
   ],
   "source": [
    "import numpy as np\n",
    "import pandas as pd\n",
    "import matplotlib.pyplot as plt\n",
    "import plotly.graph_objects as go\n",
    "from model_simulator import ARXSimulator\n",
    "from mpc_controller import MPCController\n",
    "from plotly.subplots import make_subplots\n",
    "from tqdm import tqdm\n",
    "import random\n",
    "%load_ext autoreload"
   ]
  },
  {
   "cell_type": "code",
   "execution_count": 38,
   "metadata": {},
   "outputs": [],
   "source": [
    "B = [-0.00091497,  0.14029288]\n",
    "A = [-1.04411331, 0.00942735,  0.00399007,  0.05331014]\n",
    "\n",
    "horizon = 6\n",
    "P = 0\n",
    "Q = 10\n",
    "\n",
    "# initialize array to store simulation results\n",
    "t_sim = 48\n",
    "# u_past_sim = np.zeros(4)\n",
    "u_past_sim = np.ones(4) * 12\n",
    "y_past_sim = np.ones(4) * 20\n",
    "T_init = 4 #4 y_lags\n",
    "y_ref_sim = np.array([])\n",
    "y_ref = 45\n",
    "\n",
    "mpc = MPCController(A, B, P, Q, horizon)\n",
    "arx = ARXSimulator(A, B, y_past_sim, u_past_sim[-2:])"
   ]
  },
  {
   "cell_type": "code",
   "execution_count": 39,
   "metadata": {},
   "outputs": [
    {
     "name": "stderr",
     "output_type": "stream",
     "text": [
      " 17%|█▋        | 8/48 [00:00<00:01, 35.77it/s]"
     ]
    },
    {
     "name": "stdout",
     "output_type": "stream",
     "text": [
      "Solver status: optimal\n",
      "Solver status: optimal\n",
      "Solver status: optimal\n",
      "Solver status: optimal\n",
      "Solver status: optimal\n",
      "Solver status: optimal\n",
      "Solver status: optimal\n",
      "Solver status: optimal\n"
     ]
    },
    {
     "name": "stderr",
     "output_type": "stream",
     "text": [
      " 25%|██▌       | 12/48 [00:00<00:01, 34.17it/s]"
     ]
    },
    {
     "name": "stdout",
     "output_type": "stream",
     "text": [
      "Solver status: optimal\n",
      "Solver status: optimal\n",
      "Solver status: optimal\n",
      "Solver status: optimal\n",
      "Solver status: optimal\n",
      "Solver status: optimal\n",
      "Solver status: optimal\n"
     ]
    },
    {
     "name": "stderr",
     "output_type": "stream",
     "text": [
      " 44%|████▍     | 21/48 [00:00<00:00, 35.61it/s]"
     ]
    },
    {
     "name": "stdout",
     "output_type": "stream",
     "text": [
      "Solver status: optimal\n",
      "Solver status: optimal\n",
      "Solver status: optimal\n",
      "Solver status: optimal\n",
      "Solver status: optimal\n",
      "Solver status: optimal\n",
      "Solver status: optimal\n",
      "Solver status: optimal\n"
     ]
    },
    {
     "name": "stderr",
     "output_type": "stream",
     "text": [
      " 60%|██████    | 29/48 [00:00<00:00, 34.86it/s]"
     ]
    },
    {
     "name": "stdout",
     "output_type": "stream",
     "text": [
      "Solver status: optimal\n",
      "Solver status: optimal\n",
      "Solver status: optimal\n",
      "Solver status: optimal\n",
      "Solver status: optimal\n",
      "Solver status: optimal\n"
     ]
    },
    {
     "name": "stderr",
     "output_type": "stream",
     "text": [
      " 77%|███████▋  | 37/48 [00:01<00:00, 31.27it/s]"
     ]
    },
    {
     "name": "stdout",
     "output_type": "stream",
     "text": [
      "Solver status: optimal\n",
      "Solver status: optimal\n",
      "Solver status: optimal\n",
      "Solver status: optimal\n",
      "Solver status: optimal\n",
      "Solver status: optimal\n",
      "Solver status: optimal\n",
      "Solver status: optimal\n"
     ]
    },
    {
     "name": "stderr",
     "output_type": "stream",
     "text": [
      " 94%|█████████▍| 45/48 [00:01<00:00, 33.26it/s]"
     ]
    },
    {
     "name": "stdout",
     "output_type": "stream",
     "text": [
      "Solver status: optimal\n",
      "Solver status: optimal\n",
      "Solver status: optimal\n",
      "Solver status: optimal\n",
      "Solver status: optimal\n",
      "Solver status: optimal\n",
      "Solver status: optimal\n",
      "Solver status: optimal\n"
     ]
    },
    {
     "name": "stderr",
     "output_type": "stream",
     "text": [
      "100%|██████████| 48/48 [00:01<00:00, 33.44it/s]"
     ]
    },
    {
     "name": "stdout",
     "output_type": "stream",
     "text": [
      "Solver status: optimal\n",
      "Solver status: optimal\n",
      "Solver status: optimal\n"
     ]
    },
    {
     "name": "stderr",
     "output_type": "stream",
     "text": [
      "\n"
     ]
    }
   ],
   "source": [
    "for t in tqdm(range(0,t_sim)):\n",
    "    # print('u_past_sim: ', u_past_sim)\n",
    "    # print('y_past_sim: ', y_past_sim)\n",
    "\n",
    "    u_sim, y_sim = mpc.simulate(u_past_sim[-2:], y_past_sim[-4:], y_ref)\n",
    "    if u_sim is  None:\n",
    "        break\n",
    "    u_past_sim = np.append(u_past_sim, u_sim[0])\n",
    "    mwh_hat = arx.MW_to_MWh([u_sim[0]])\n",
    "    y_past_sim = np.append(y_past_sim, mwh_hat)\n",
    "    y_ref_sim = np.append(y_ref_sim,y_ref)\n",
    "    # if t % 30 ==0:\n",
    "    #     y_ref = random.choice([1, 1.5, 2, 2.7, 3, 1.7])"
   ]
  },
  {
   "cell_type": "code",
   "execution_count": null,
   "metadata": {},
   "outputs": [],
   "source": [
    "u_past_sim"
   ]
  },
  {
   "cell_type": "code",
   "execution_count": null,
   "metadata": {},
   "outputs": [],
   "source": [
    "y_past_sim"
   ]
  },
  {
   "cell_type": "code",
   "execution_count": 40,
   "metadata": {},
   "outputs": [
    {
     "name": "stdout",
     "output_type": "stream",
     "text": [
      "Horizon (hours):  1.5  P:  0  Q:  10\n"
     ]
    },
    {
     "data": {
      "image/png": "[encoded data removed]",
      "text/plain": [
       "<Figure size 800x400 with 2 Axes>"
      ]
     },
     "metadata": {},
     "output_type": "display_data"
    }
   ],
   "source": [
    "print('Horizon (hours): ', horizon/4, ' P: ', P, ' Q: ', Q )\n",
    "\n",
    "time = range(len(y_past_sim))\n",
    "fig, axs = plt.subplots(2, 1, figsize=(8, 4), sharex=True)\n",
    "\n",
    "# Plot y_ref and y_output\n",
    "# axs[0].plot(time, y_reference[:len(y_output)], label=\"Reference (y_ref)\", linestyle=\"--\", color=\"black\")\n",
    "axs[0].axhline(y_ref, label = 'Y- reference')\n",
    "axs[0].plot(time, y_past_sim, label=\"Predicted (y_output)\", marker=\"o\", color=\"blue\")\n",
    "axs[0].set_ylabel(\"Storage Energy (MWh)\")\n",
    "axs[0].legend()\n",
    "axs[0].grid(True)\n",
    "\n",
    "# Plot u_control\n",
    "axs[1].step(time, u_past_sim, label=\"Control Input (u_control)\", where=\"post\", color=\"red\")\n",
    "axs[1].set_xlabel(\"Time Step\")\n",
    "axs[1].set_ylabel(\"Control Input (MW)\")\n",
    "axs[1].legend()\n",
    "axs[1].grid(True)\n",
    "\n",
    "plt.tight_layout()\n",
    "plt.show()"
   ]
  }
 ],
 "metadata": {
  "kernelspec": {
   "display_name": "opt_env",
   "language": "python",
   "name": "python3"
  },
  "language_info": {
   "codemirror_mode": {
    "name": "ipython",
    "version": 3
   },
   "file_extension": ".py",
   "mimetype": "text/x-python",
   "name": "python",
   "nbconvert_exporter": "python",
   "pygments_lexer": "ipython3",
   "version": "3.12.3"
  }
 },
 "nbformat": 4,
 "nbformat_minor": 2
}
