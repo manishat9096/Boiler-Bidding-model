{
 "cells": [
  {
   "cell_type": "code",
   "execution_count": 18,
   "metadata": {},
   "outputs": [],
   "source": [
    "import control as ctrl\n",
    "import numpy as np\n",
    "import pandas as pd\n",
    "import matplotlib.pyplot as plt\n",
    "import plotly.graph_objects as go\n",
    "from plotly.subplots import make_subplots"
   ]
  },
  {
   "cell_type": "code",
   "execution_count": 7,
   "metadata": {},
   "outputs": [
    {
     "data": {
      "text/latex": [
       "$$\\frac{0.03319 z + 0.09114}{z^2 - 1.052 z + 0.07153}\\quad dt = 1.0$$"
      ],
      "text/plain": [
       "TransferFunction(array([0.03318858, 0.09114499]), array([ 1.        , -1.05169693,  0.07153242]), 1.0)"
      ]
     },
     "execution_count": 7,
     "metadata": {},
     "output_type": "execute_result"
    }
   ],
   "source": [
    "# ARX model of the boiler\n",
    "A= np.array([ 1, -1.05169693, 0.07153242])\n",
    "B = np.array([0.03318858, 0.09114499])\n",
    "\n",
    "G = ctrl.TransferFunction(B, A, dt = 1.0)\n",
    "G"
   ]
  },
  {
   "cell_type": "code",
   "execution_count": null,
   "metadata": {},
   "outputs": [],
   "source": [
    "# Apply the ARMAX model to Heat schedule for a week\n",
    "folder_path = r\"D:\\ms\\January 2024\\Thesis\\Boiler-Bidding-model\\Datasets\\boiler-12025022508_00_17_LHP_2_PHLIT_export.csv\"\n",
    "testfile = pd.read_csv(folder_path)\n",
    "testfile[\"Heat load forecast [MW]\"] = testfile[\"Heat load forecast [MW]\"].shift(-1)\n",
    "testfile = testfile.iloc[:-1]\n",
    "\n",
    "x_values = testfile['Heat load forecast [MW]']\n",
    "x_values = x_values.values\n",
    "time = np.arange(0, len(x_values), 1)"
   ]
  },
  {
   "cell_type": "code",
   "execution_count": null,
   "metadata": {},
   "outputs": [],
   "source": []
  }
 ],
 "metadata": {
  "kernelspec": {
   "display_name": "base",
   "language": "python",
   "name": "python3"
  },
  "language_info": {
   "codemirror_mode": {
    "name": "ipython",
    "version": 3
   },
   "file_extension": ".py",
   "mimetype": "text/x-python",
   "name": "python",
   "nbconvert_exporter": "python",
   "pygments_lexer": "ipython3",
   "version": "3.11.4"
  }
 },
 "nbformat": 4,
 "nbformat_minor": 2
}
